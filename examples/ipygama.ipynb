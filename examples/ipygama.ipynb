{
 "cells": [
  {
   "cell_type": "code",
   "execution_count": 1,
   "metadata": {},
   "outputs": [],
   "source": [
    "import sys, os\n",
    "import numpy as np\n",
    "import pandas as pd\n",
    "import pygama\n",
    "\n",
    "%load_ext line_profiler\n",
    "\n",
    "sys.path.append(\"/Users/wisecg/dev/mj60\")\n",
    "from test_pygama_2 import make_processor_list, tier0\n",
    "\n",
    "run = 42343\n",
    "raw_file = \"/Users/wisecg/dev/mj60/data/2018-10-9-P3LTP_Run42343\"\n",
    "t1_file = \"/Users/wisecg/dev/mj60/data/t1_run42343.h5\"\n",
    "\n",
    "digitizer = pygama.decoders.digitizers.Gretina4MDecoder(\n",
    "    correct_presum = False,\n",
    "    split_waveform = False,\n",
    ")"
   ]
  },
  {
   "cell_type": "code",
   "execution_count": 11,
   "metadata": {},
   "outputs": [
    {
     "name": "stdout",
     "output_type": "stream",
     "text": [
      "Starting pygama Tier 0 processing ...\n",
      "  Input file: /Users/wisecg/dev/mj60/data/2018-10-9-P3LTP_Run42343\n",
      "Header parsed.\n",
      "   48310 longs (in plist header)\n",
      "   193230 bytes in the header\n",
      "Total file size: 2001.221 MB\n",
      "Run number: 42343\n",
      "The Data IDs present in this file (header) are:\n",
      "    1: OR1DHistoDecoder\n",
      "    14: ORGretinaTriggerDecoder\n",
      "    2: ORMJDPreAmpDecoderForAdc\n",
      "    4: ORScriptDecoderForRecord\n",
      "    3: ORScriptDecoderForState\n",
      "    9: ORCV830DecoderForEvent\n",
      "    10: ORCV830DecoderForPolledRead\n",
      "    11: ORCAEN792DecoderForQdc\n",
      "    12: ORCAEN792NDecoderForQdc\n",
      "    15: ORiSegHVCardDecoderForHV\n",
      "    5: ORiSegHVCardDecoderForHV\n",
      "    6: ORGretina4MWaveformDecoder\n",
      "    13: ORHPPulserDecoderForPulserSettings\n",
      "    16: ORRunDecoderForRun\n",
      "Available pygama decoders:\n",
      "    -- ORGretina4MWaveformDecoder\n",
      "    -- ORSIS3302DecoderForEnergy\n",
      "    -- ORMJDPreAmpDecoderForAdc\n",
      "    -- ORiSegHVCardDecoderForHV\n",
      "Applying these decoders to the file:\n",
      "    6: ORGretina4MWaveformDecoder\n",
      "    5: ORiSegHVCardDecoderForHV\n",
      "    2: ORMJDPreAmpDecoderForAdc\n",
      "Beginning Tier 0 processing of file:\n",
      "    /Users/wisecg/dev/mj60/data/2018-10-9-P3LTP_Run42343...\n",
      "PROGRESS : [####################] 100.000% Done...\n",
      "Over-writing tier1 file ./data/t1_run42343.h5...\n",
      "Writing Tier 1 File:\n",
      "    ./data/t1_run42343.h5\n",
      " -- ORGretina4MWaveformDecoder\n",
      "      event_number entries: 9894\n",
      "      energy entries: 9894\n",
      "      timestamp entries: 9894\n",
      "      channel entries: 9894\n",
      "      board_id entries: 9894\n",
      "      waveform entries: 9894\n",
      " -- ORMJDPreAmpDecoderForAdc\n",
      "      adc entries: 8\n",
      "      enabled entries: 8\n",
      "      timestamp entries: 8\n",
      "      device_id entries: 8\n",
      "      event_number entries: 8\n",
      " -- ORiSegHVCardDecoderForHV\n",
      "      timestamp entries: 22\n",
      "      voltage entries: 22\n",
      "      current entries: 22\n",
      "      enabled entries: 22\n",
      "      crate entries: 22\n",
      "      card entries: 22\n",
      "      event_number entries: 22\n",
      "File size: 45.206 MB\n",
      "Time elapsed: 1.70 sec\n",
      "Done.\n",
      "\n"
     ]
    }
   ],
   "source": [
    "# %%capture\n",
    "n_evt = 10000\n",
    "tier0(run, raw_file, n_evt)\n",
    "event_df = pd.read_hdf(t1_file, key=digitizer.decoder_name)"
   ]
  },
  {
   "cell_type": "code",
   "execution_count": 6,
   "metadata": {},
   "outputs": [],
   "source": [
    "# %timeit \n",
    "event_df = pd.read_hdf(t1_file, key=digitizer.decoder_name)"
   ]
  },
  {
   "cell_type": "code",
   "execution_count": 7,
   "metadata": {},
   "outputs": [],
   "source": [
    "# declare the Tier 1 processor list\n",
    "proc_list = make_processor_list()\n",
    "proc_list.digitizer = digitizer\n",
    "proc_list.max_event_number = len(event_df)\n",
    "proc_list.verbose = True\n",
    "proc_list.t0_cols = event_df.columns.tolist()\n",
    "proc_list.runNumber = run\n",
    "proc_list.num = 0"
   ]
  },
  {
   "cell_type": "code",
   "execution_count": null,
   "metadata": {},
   "outputs": [],
   "source": [
    "# save a new dataframe where each row is its own wf\n",
    "wfs = event_df[\"waveform\"]\n",
    "wf_df = pd.DataFrame.from_dict(dict(zip(wfs.index, wfs.values))).T\n",
    "# wf_df.to_hdf(\"t2_wfs.h5\", key=\"data\", format='table', mode='w')\n",
    "# wf_df = pd.read_hdf(\"t2_wfs.h5\")\n",
    "print(event_df[\"waveform\"].shape, wf_df.shape)"
   ]
  },
  {
   "cell_type": "code",
   "execution_count": 8,
   "metadata": {},
   "outputs": [
    {
     "name": "stdout",
     "output_type": "stream",
     "text": [
      "PROGRESS : [####################] 99.982%  (Run 42343)Elapsed: 68.58286100000001 seconds\n"
     ]
    }
   ],
   "source": [
    "import time\n",
    "t_start = time.clock()\n",
    "t1_df = event_df.apply(proc_list.Process, axis=1)\n",
    "print(\"Elapsed:\",time.clock()-t_start,\"seconds\")"
   ]
  },
  {
   "cell_type": "code",
   "execution_count": null,
   "metadata": {},
   "outputs": [],
   "source": [
    "%timeit t1_df = event_df.apply(proc_list.Process, axis=1)"
   ]
  },
  {
   "cell_type": "code",
   "execution_count": null,
   "metadata": {},
   "outputs": [],
   "source": [
    "%lprun?"
   ]
  },
  {
   "cell_type": "code",
   "execution_count": null,
   "metadata": {},
   "outputs": [],
   "source": [
    "# show line profile of 'apply'\n",
    "%lprun -f event_df.apply event_df.apply(proc_list.Process, axis=1)"
   ]
  },
  {
   "cell_type": "code",
   "execution_count": null,
   "metadata": {},
   "outputs": [],
   "source": [
    "# show line profile of the proc list\n",
    "%lprun -f proc_list.Process event_df.apply(proc_list.Process, axis=1)"
   ]
  },
  {
   "cell_type": "code",
   "execution_count": null,
   "metadata": {},
   "outputs": [],
   "source": [
    "%timeit t1_df = wf_df.apply(proc_list.Process, axis=1, flat=True)"
   ]
  },
  {
   "cell_type": "code",
   "execution_count": null,
   "metadata": {},
   "outputs": [],
   "source": [
    "def fit_baseline(waveform, start_index=0, end_index=500, order=1):\n",
    "    \"\"\" Finds baseline from start index to end index samples (default linear) \"\"\"\n",
    "    if end_index == -1: end_index = len(waveform)\n",
    "    p = np.polyfit(\n",
    "        np.arange(start_index, end_index), waveform[start_index:end_index], 1)\n",
    "    return p"
   ]
  },
  {
   "cell_type": "code",
   "execution_count": null,
   "metadata": {},
   "outputs": [],
   "source": [
    "%%timeit\n",
    "new_rows = []\n",
    "for i, wf in event_df.iterrows():\n",
    "    mywf = wf[\"waveform\"] # this is an ndarray, (2032, )\n",
    "    new_rows.append(fit_baseline(mywf))\n",
    "t1_df = pd.DataFrame(new_rows)"
   ]
  },
  {
   "cell_type": "code",
   "execution_count": null,
   "metadata": {},
   "outputs": [],
   "source": [
    "%%timeit\n",
    "new_rows = []\n",
    "for i, wf in wf_df.iterrows():\n",
    "    new_rows.append(fit_baseline(wf.values)) # put the ndarray in here\n",
    "t1_df = pd.DataFrame(new_rows)"
   ]
  },
  {
   "cell_type": "code",
   "execution_count": null,
   "metadata": {},
   "outputs": [],
   "source": [
    "wf_df.values"
   ]
  },
  {
   "cell_type": "code",
   "execution_count": null,
   "metadata": {},
   "outputs": [],
   "source": [
    "def fit_baseline_vec(arr):\n",
    "\n",
    "    # super simple, mean baseline, with correct shape (should be vectorized)\n",
    "    # return np.mean(arr[:,:500], axis=1) \n",
    "        \n",
    "    # This block looks good!  just have to check it.\n",
    "    x = np.arange(0, 500)\n",
    "    y = arr[:, 0:500].T\n",
    "    p = np.polynomial.polynomial.polyfit(x, y, 1).T\n",
    "    \n",
    "    # print(\"vectorized result\")\n",
    "    # print(arr.shape)\n",
    "    # print(p.shape)\n",
    "    # print(p)\n",
    "\n",
    "    # # looks good except the 1st and 2nd values are switched\n",
    "    # print(\"loop over wfs\")\n",
    "    # for wf in y.T:\n",
    "    #     p = np.polyfit(x, wf, 1)\n",
    "    #     print(p)\n",
    "    \n",
    "    return p\n",
    "\n",
    "result = fit_baseline_vec(wf_df.values[0:10])\n",
    "# print(result.shape)\n",
    "# print(result)"
   ]
  },
  {
   "cell_type": "code",
   "execution_count": null,
   "metadata": {},
   "outputs": [],
   "source": [
    "vals = np.array([[-1.56113514,  4.51759732],\n",
    "       [-2.80261623,  5.068371  ],\n",
    "       [ 0.7792729 ,  6.0169462 ],\n",
    "       [-1.35672858,  3.52517478],\n",
    "       [-1.92074891,  5.79966161],\n",
    "       [-2.79340321,  4.73430001],\n",
    "       [-2.79655868,  5.05361163],\n",
    "       [-2.13637747,  5.39255837],\n",
    "       [ 0.17341809,  3.60918261],\n",
    "       [-1.22712921,  4.95327158]])\n",
    "\n",
    "def function(array):\n",
    "    c1 = array[:, 0]\n",
    "    c2 = array[:, 1]\n",
    "    return c1 * c2\n",
    "\n",
    "print(function(vals), function(vals).shape)"
   ]
  },
  {
   "cell_type": "code",
   "execution_count": null,
   "metadata": {},
   "outputs": [],
   "source": [
    "wfs = wf_df.values\n",
    "t1 = fit_baseline_vec(wfs)\n",
    "t1_df = pd.DataFrame(t1)\n",
    "\n",
    "t1_df = wf_df.apply(fit_baseline, axis=1)"
   ]
  },
  {
   "cell_type": "code",
   "execution_count": null,
   "metadata": {},
   "outputs": [],
   "source": [
    "%timeit t1_df = pd.DataFrame(fit_baseline_vec(wf_df.values))"
   ]
  },
  {
   "cell_type": "code",
   "execution_count": null,
   "metadata": {},
   "outputs": [],
   "source": [
    "%timeit t1_df = wf_df.apply(fit_baseline, axis=1)"
   ]
  },
  {
   "cell_type": "code",
   "execution_count": null,
   "metadata": {},
   "outputs": [],
   "source": [
    "%lprun -f fit_baseline_vec pd.DataFrame(fit_baseline_vec(wf_df.values))"
   ]
  },
  {
   "cell_type": "code",
   "execution_count": 9,
   "metadata": {},
   "outputs": [],
   "source": [
    "# ++++++++++++++++++++++++++++++++++++++++\n",
    "\n",
    "# try vectorized processor\n",
    "\n",
    "digitizer = pygama.decoders.digitizers.Gretina4MDecoder(\n",
    "        correct_presum = False,\n",
    "        split_waveform = False,\n",
    "        )\n",
    "event_df = pd.read_hdf(t1_file, key=digitizer.decoder_name)\n",
    "\n",
    "vec_procs = pygama.VectorizedProcessorList()\n",
    "\n",
    "vec_procs.AddCalculator(pygama.processing.vectorized.fit_baseline,\n",
    "                            in_name = [\"waveform\"],\n",
    "                            out_name = [\"bl_int\", \"bl_slope\"],\n",
    "                            fun_args = {\"end_index\":700})\n",
    "\n",
    "# vec_procs.AddCalculator(pygama.processing.vectorized.avg_baseline,\n",
    "#                         in_name = [\"waveform\"],\n",
    "#                         out_name = [\"bl_avg\"],\n",
    "#                         fun_args = {\"end_index\":700})"
   ]
  },
  {
   "cell_type": "code",
   "execution_count": null,
   "metadata": {},
   "outputs": [],
   "source": [
    "t_start = time.clock()\n",
    "t1_df = vec_procs.Process(event_df)\n",
    "print(\"Vec elapsed:\",time.clock()-t_start)"
   ]
  },
  {
   "cell_type": "code",
   "execution_count": 10,
   "metadata": {},
   "outputs": [
    {
     "name": "stdout",
     "output_type": "stream",
     "text": [
      "Applying processor: <function fit_baseline at 0x1105d6158>\n",
      "Applying processor: <function fit_baseline at 0x1105d6158>\n",
      "Applying processor: <function fit_baseline at 0x1105d6158>\n",
      "Applying processor: <function fit_baseline at 0x1105d6158>\n",
      "Applying processor: <function fit_baseline at 0x1105d6158>\n",
      "Applying processor: <function fit_baseline at 0x1105d6158>\n",
      "Applying processor: <function fit_baseline at 0x1105d6158>\n",
      "Applying processor: <function fit_baseline at 0x1105d6158>\n",
      "1.6 s ± 42.2 ms per loop (mean ± std. dev. of 7 runs, 1 loop each)\n"
     ]
    }
   ],
   "source": [
    "%timeit t1_df = vec_procs.Process(event_df)"
   ]
  },
  {
   "cell_type": "code",
   "execution_count": null,
   "metadata": {},
   "outputs": [],
   "source": [
    "print(t1_df)"
   ]
  },
  {
   "cell_type": "code",
   "execution_count": 3,
   "metadata": {},
   "outputs": [
    {
     "name": "stdout",
     "output_type": "stream",
     "text": [
      "Applying processor: <function fit_baseline at 0x1105d6158>\n"
     ]
    }
   ],
   "source": [
    "%lprun -f vec_procs.Process vec_procs.Process(event_df)"
   ]
  },
  {
   "cell_type": "code",
   "execution_count": null,
   "metadata": {},
   "outputs": [],
   "source": []
  }
 ],
 "metadata": {
  "kernelspec": {
   "display_name": "Python 3",
   "language": "python",
   "name": "python3"
  },
  "language_info": {
   "codemirror_mode": {
    "name": "ipython",
    "version": 3
   },
   "file_extension": ".py",
   "mimetype": "text/x-python",
   "name": "python",
   "nbconvert_exporter": "python",
   "pygments_lexer": "ipython3",
   "version": "3.7.2"
  }
 },
 "nbformat": 4,
 "nbformat_minor": 2
}
